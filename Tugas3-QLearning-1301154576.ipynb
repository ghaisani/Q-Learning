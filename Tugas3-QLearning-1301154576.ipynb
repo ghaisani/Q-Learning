{
 "cells": [
  {
   "cell_type": "markdown",
   "metadata": {},
   "source": [
    "## Tugas 3 - Reinforcement Learning ##\n",
    "### Q-Learning ###\n",
    "##### Febry Ghaisani 1301154576 IF3902 #####\n",
    "\n",
    "Analisis coming soon..."
   ]
  },
  {
   "cell_type": "code",
   "execution_count": 476,
   "metadata": {
    "collapsed": true
   },
   "outputs": [],
   "source": [
    "import pandas as pd\n",
    "import numpy as np\n",
    "import random"
   ]
  },
  {
   "cell_type": "code",
   "execution_count": 477,
   "metadata": {
    "collapsed": true
   },
   "outputs": [],
   "source": [
    "datas1 = np.genfromtxt('DataTugasML3.txt', delimiter='\\t',dtype=int)\n",
    "datas2 = np.zeros((10,10,2))\n",
    "\n",
    "k = 0\n",
    "for i in range(10):\n",
    "    for j in range(10):\n",
    "        c = datas1[i,j]\n",
    "        d = np.array([k,c])\n",
    "        datas2[i,j] = d\n",
    "        k += 1\n",
    "# print(datas2)\n",
    "\n",
    "Q = np.zeros((4,100))\n",
    "# Q[Q == 0] = -100"
   ]
  },
  {
   "cell_type": "code",
   "execution_count": 478,
   "metadata": {
    "collapsed": true
   },
   "outputs": [],
   "source": [
    "def get_coor_by_action(random,x,y):\n",
    "    if random == 0:\n",
    "        x -= 1\n",
    "        if x<0:\n",
    "            x += 1\n",
    "    elif random == 1:\n",
    "        y += 1\n",
    "        if y>9:\n",
    "            y -= 1\n",
    "    elif random == 2:\n",
    "        x += 1\n",
    "        if x>9:\n",
    "            x -= 1\n",
    "    elif random == 3:\n",
    "        y -= 1\n",
    "        if y<0:\n",
    "            y += 1\n",
    "    return x,y"
   ]
  },
  {
   "cell_type": "code",
   "execution_count": 479,
   "metadata": {
    "collapsed": true,
    "scrolled": true
   },
   "outputs": [],
   "source": [
    "# Exploration\n",
    "\n",
    "alpha = 0.1\n",
    "gamma = 0.9\n",
    "\n",
    "for j in range(600):\n",
    "    x = 9\n",
    "    y = 0\n",
    "    s = 90\n",
    "    \n",
    "#     reward = 0\n",
    "#     arah = []\n",
    "\n",
    "    while (x != 0 & y != 9):\n",
    "        # random action, N=0 S=2 W=3 E=1\n",
    "        pol = np.random.choice(4, 1)\n",
    "        x,y = get_coor_by_action(pol,x,y)\n",
    "    \n",
    "        # update table Q\n",
    "        maks = np.amax(Q, axis=0)\n",
    "        Q[pol,s] = (Q[pol,s] + (alpha*(datas2[x,y][1]+(gamma*maks[int(datas2[x,y][0])]) - Q[pol,s])))\n",
    "        \n",
    "        # next state\n",
    "        s = int(datas2[x,y][0])\n",
    "        \n",
    "#         arah.append(pol)\n",
    "#         reward += datas2[x,y][1]\n",
    "#     print('reward tiap episode ke : ',j,reward)\n",
    "# print(Q)"
   ]
  },
  {
   "cell_type": "code",
   "execution_count": 480,
   "metadata": {},
   "outputs": [
    {
     "name": "stdout",
     "output_type": "stream",
     "text": [
      "61.0\n",
      "[80, 81, 82, 83, 84, 74, 64, 54, 44, 45, 46, 47, 37, 38, 28, 29, 19, 9]\n"
     ]
    }
   ],
   "source": [
    "# Exploitation\n",
    "\n",
    "st = 90\n",
    "xt = 9\n",
    "yt = 0\n",
    "rew = 0\n",
    "state = []\n",
    "\n",
    "while (st != 9):\n",
    "    # get max a', Q(s',a')\n",
    "    makst = np.amax(Q, axis=0)\n",
    "    pola, st = np.where(Q == makst[st])\n",
    "    if (pola.size > 1):\n",
    "        pol = pola[0]\n",
    "    else:\n",
    "        pol = pola\n",
    "        \n",
    "    xt,yt = get_coor_by_action(pol,xt,yt)\n",
    "    # next state\n",
    "    st = int(datas2[xt,yt][0])\n",
    "    \n",
    "    state.append(st)\n",
    "    rew += datas2[xt,yt][1]\n",
    "    \n",
    "print(rew)\n",
    "print(state)"
   ]
  },
  {
   "cell_type": "code",
   "execution_count": 329,
   "metadata": {},
   "outputs": [
    {
     "name": "stdout",
     "output_type": "stream",
     "text": [
      "[[[ 0.  0.  0.]\n",
      "  [ 0.  0.  0.]\n",
      "  [ 0.  0.  0.]]]\n"
     ]
    },
    {
     "data": {
      "text/plain": [
       "array([[[-10., -10., -10.],\n",
       "        [-10., -10., -10.],\n",
       "        [-10., -10., -10.]]])"
      ]
     },
     "execution_count": 329,
     "metadata": {},
     "output_type": "execute_result"
    }
   ],
   "source": [
    "# ------------------------------------------ UNUSED ------------------------------------------\n",
    "\n",
    "import numpy as np\n",
    "a = np.array([[np.array([1,2]),2,3],[np.array([2,3]),5,3]])\n",
    "a[0,0][:]\n",
    "\n",
    "data = np.zeros((10,2))\n",
    "datas2 = np.vstack(([np.zeros((10,2))],[np.zeros((10,2))]*9))\n",
    "# np.insert(datas2,np.zeros((10,2)))\n",
    "datas2\n",
    "\n",
    "# b = np.array([[1,2,3],[4,5,6],[7,8,9]])\n",
    "b = np.zeros((1,3,3))\n",
    "print(b)\n",
    "b[b == 0] = -10\n",
    "b"
   ]
  }
 ],
 "metadata": {
  "kernelspec": {
   "display_name": "Python 3",
   "language": "python",
   "name": "python3"
  },
  "language_info": {
   "codemirror_mode": {
    "name": "ipython",
    "version": 3
   },
   "file_extension": ".py",
   "mimetype": "text/x-python",
   "name": "python",
   "nbconvert_exporter": "python",
   "pygments_lexer": "ipython3",
   "version": "3.6.3"
  }
 },
 "nbformat": 4,
 "nbformat_minor": 2
}
